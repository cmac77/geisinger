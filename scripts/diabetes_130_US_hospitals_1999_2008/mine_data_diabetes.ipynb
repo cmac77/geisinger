{
 "cells": [
  {
   "cell_type": "markdown",
   "metadata": {},
   "source": [
    "Initialization"
   ]
  },
  {
   "cell_type": "code",
   "execution_count": null,
   "metadata": {},
   "outputs": [],
   "source": [
    "# Standard library imports\n",
    "from pathlib import Path\n",
    "import sys\n",
    "\n",
    "# Third-party imports\n",
    "from pyprojroot.here import here\n",
    "import pandas as pd\n",
    "import matplotlib\n",
    "\n",
    "# matplotlib.use(\"Qt5Agg\")  # or 'TkAgg'\n",
    "\n",
    "# Adjust the Python path for local application/library imports\n",
    "sys.path.append(str(Path(__file__).resolve().parent.parent))\n",
    "\n",
    "# Local application/library imports\n",
    "from src.pd_pca_utils import apply_pca, visualize_pca\n",
    "\n",
    "# Establish important project paths\n",
    "dir_base = here()  # ./geisinger\n",
    "dir_data = Path(dir_base, \"data/diabetes_130_US_hospitals_1999_2008\")\n",
    "dir_results = Path(dir_base, \"results/\")\n",
    "dir_scripts = Path(dir_base, \"scripts/\")\n",
    "dir_scr = Path(dir_base, \"scr/\")"
   ]
  },
  {
   "cell_type": "markdown",
   "metadata": {},
   "source": [
    "Load data and remove rows with missing data."
   ]
  },
  {
   "cell_type": "code",
   "execution_count": null,
   "metadata": {},
   "outputs": [],
   "source": [
    "# Load the dataset (assuming it's in CSV format)\n",
    "df_data = pd.read_csv(Path(dir_data, \"data.csv\"))\n",
    "df_key = pd.read_csv(Path(dir_data, \"key.csv\"))\n",
    "\n",
    "# Drop missing data in both df_data and readmitted column before PCA\n",
    "df_cleaned = df_data.dropna()"
   ]
  },
  {
   "cell_type": "markdown",
   "metadata": {},
   "source": [
    "Let's explore the data wrt the readmitted variable."
   ]
  },
  {
   "cell_type": "code",
   "execution_count": null,
   "metadata": {},
   "outputs": [],
   "source": [
    "\n",
    "# Convert 'readmitted' values to numerical codes for visualization\n",
    "df_cleaned.loc[:, \"readmitted_numeric\"] = df_cleaned[\"readmitted\"].map(\n",
    "    {\"NO\": 0, \"<30\": 1, \">30\": 2}\n",
    ")\n",
    "\n",
    "# Apply PCA to the cleaned dataset\n",
    "df_pca, pca_model = apply_pca(df_cleaned, n_components=3, handle_missing=\"drop\")\n",
    "\n",
    "# Ensure the 'readmitted_numeric' column is added to df_pca for coloring in the plot\n",
    "df_pca[\"readmitted_numeric\"] = df_cleaned[\"readmitted_numeric\"].values\n",
    "\n",
    "# Visualize the PCA with the numeric readmitted column\n",
    "visualize_pca(df_pca, hue_column=\"readmitted_numeric\")"
   ]
  }
 ],
 "metadata": {
  "kernelspec": {
   "display_name": "geisinger",
   "language": "python",
   "name": "python3"
  },
  "language_info": {
   "codemirror_mode": {
    "name": "ipython",
    "version": 3
   },
   "file_extension": ".py",
   "mimetype": "text/x-python",
   "name": "python",
   "nbconvert_exporter": "python",
   "pygments_lexer": "ipython3",
   "version": "3.12.3"
  }
 },
 "nbformat": 4,
 "nbformat_minor": 2
}
